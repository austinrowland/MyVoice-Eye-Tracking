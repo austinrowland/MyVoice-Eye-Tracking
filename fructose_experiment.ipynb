{
 "cells": [
  {
   "cell_type": "code",
   "execution_count": null,
   "metadata": {},
   "outputs": [],
   "source": [
    "import fructose\n",
    "import speech_recognition\n",
    "import pyttsx3\n",
    "from fructose import Fructose\n",
    "import numpy as np\n",
    "from audiosegment import AudioSegment\n",
    "ai = Fructose()"
   ]
  },
  {
   "cell_type": "code",
   "execution_count": 16,
   "metadata": {},
   "outputs": [
    {
     "ename": "AttributeError",
     "evalue": "type object 'AudioSegment' has no attribute 'from_mp3'",
     "output_type": "error",
     "traceback": [
      "\u001b[0;31m---------------------------------------------------------------------------\u001b[0m",
      "\u001b[0;31mAttributeError\u001b[0m                            Traceback (most recent call last)",
      "Cell \u001b[0;32mIn[16], line 2\u001b[0m\n\u001b[1;32m      1\u001b[0m audio_file \u001b[38;5;241m=\u001b[39m \u001b[38;5;28mopen\u001b[39m(\u001b[38;5;124m\"\u001b[39m\u001b[38;5;124mquestion_audio_example.mp3\u001b[39m\u001b[38;5;124m\"\u001b[39m, \u001b[38;5;124m\"\u001b[39m\u001b[38;5;124mrb\u001b[39m\u001b[38;5;124m\"\u001b[39m)\n\u001b[0;32m----> 2\u001b[0m audio \u001b[38;5;241m=\u001b[39m \u001b[43mAudioSegment\u001b[49m\u001b[38;5;241;43m.\u001b[39;49m\u001b[43mfrom_mp3\u001b[49m(audio_file)\n\u001b[1;32m      3\u001b[0m wav_data \u001b[38;5;241m=\u001b[39m audio\u001b[38;5;241m.\u001b[39mraw_data\n\u001b[1;32m      5\u001b[0m \u001b[38;5;66;03m# Convert the raw data to a numpy array\u001b[39;00m\n",
      "\u001b[0;31mAttributeError\u001b[0m: type object 'AudioSegment' has no attribute 'from_mp3'"
     ]
    }
   ],
   "source": [
    "audio_file = open(\"question_audio_example.mp3\", \"rb\")\n",
    "audio = AudioSegment.from_mp3(audio_file)\n",
    "wav_data = audio.raw_data\n",
    "\n",
    "# Convert the raw data to a numpy array\n",
    "audio_array = np.frombuffer(wav_data, dtype=np.int16)"
   ]
  },
  {
   "cell_type": "code",
   "execution_count": null,
   "metadata": {},
   "outputs": [
    {
     "name": "stdout",
     "output_type": "stream",
     "text": [
      "name 'audio_array' is not defined\n"
     ]
    }
   ],
   "source": [
    "recognizer = speech_recognition.Recognizer()\n",
    "\n",
    "punctuations = ['.', '?']\n",
    "\n",
    "# while True:\n",
    "\n",
    "try:\n",
    "\n",
    "    with speech_recognition.Microphone() as mic:\n",
    "\n",
    "        recognizer.adjust_for_ambient_noise(mic, duration=0.2)\n",
    "        # audio = recognizer.listen(mic)\n",
    "\n",
    "        \n",
    "\n",
    "        # text = recognizer.recognize_google(audio)\n",
    "        # text = recognizer.recognize_google(audio_file)\n",
    "        text = recognizer.recognize_google(audio_array)\n",
    "        text = text.lower()\n",
    "\n",
    "        print(f\"Recognized {text}\")\n",
    "\n",
    "# except speech_recognition.UnknownValueError():\n",
    "except Exception as e:\n",
    "    print(e)\n",
    "    recognizer = speech_recognition.Recognizer()\n",
    "    # continue\n",
    "\n"
   ]
  },
  {
   "cell_type": "code",
   "execution_count": 8,
   "metadata": {},
   "outputs": [
    {
     "ename": "NameError",
     "evalue": "name 'text' is not defined",
     "output_type": "error",
     "traceback": [
      "\u001b[0;31m---------------------------------------------------------------------------\u001b[0m",
      "\u001b[0;31mNameError\u001b[0m                                 Traceback (most recent call last)",
      "Cell \u001b[0;32mIn[8], line 1\u001b[0m\n\u001b[0;32m----> 1\u001b[0m \u001b[43mtext\u001b[49m\n",
      "\u001b[0;31mNameError\u001b[0m: name 'text' is not defined"
     ]
    }
   ],
   "source": [
    "text"
   ]
  },
  {
   "cell_type": "code",
   "execution_count": null,
   "metadata": {},
   "outputs": [
    {
     "name": "stdout",
     "output_type": "stream",
     "text": [
      "pet\n"
     ]
    }
   ],
   "source": [
    "@ai()\n",
    "def describe(animals: list[str]) -> str:\n",
    "  \"\"\"\n",
    "  Given a list of animals, use one word that'd describe them all.\n",
    "  \"\"\"\n",
    "  ...\n",
    "\n",
    "description = describe([\"dog\", \"cat\", \"parrot\", \"goldfish\"])\n",
    "print(description) # -> \"pets\" type: str"
   ]
  },
  {
   "cell_type": "code",
   "execution_count": null,
   "metadata": {},
   "outputs": [],
   "source": []
  },
  {
   "cell_type": "code",
   "execution_count": null,
   "metadata": {},
   "outputs": [],
   "source": [
    "# from fructose import Fructose\n",
    "# from dataclasses import dataclass\n",
    "\n",
    "# ai = Fructose()\n",
    "\n",
    "# @dataclass\n",
    "# class Person:\n",
    "#     name: str\n",
    "#     hobbies: str\n",
    "#     dislikes: str\n",
    "#     obscure_inclinations: str\n",
    "#     age: int\n",
    "#     height: float\n",
    "#     is_human: bool\n",
    "\n",
    "# @ai()\n",
    "# def generate_fake_person_data() -> Person:\n",
    "#   \"\"\"\n",
    "#     Generate fake data for a cliche aspiring author\n",
    "#   \"\"\"\n",
    "#   ...\n",
    "\n",
    "# person = generate_fake_person_data()\n",
    "# print(person)"
   ]
  },
  {
   "cell_type": "code",
   "execution_count": null,
   "metadata": {},
   "outputs": [],
   "source": [
    "recognizer = speech_recognition.Recognizer()\n",
    "\n",
    "punctuations = ['.', '?']\n",
    "\n",
    "while True:\n",
    "\n",
    "    try:\n",
    "\n",
    "        with speech_recognition.Microphone() as mic:\n",
    "\n",
    "            recognizer.adjust_for_ambient_noise(mic, duration=0.2)\n",
    "            audio = recognizer.listen(mic)\n",
    "\n",
    "            text = recognizer.recognize_google(audio)\n",
    "            text = text.lower()\n",
    "\n",
    "            print(f\"Recognized {text}\")\n",
    "\n",
    "    # except speech_recognition.UnknownValueError():\n",
    "    except Exception as e:\n",
    "\n",
    "        recognizer = speech_recognition.Recognizer()\n",
    "        continue\n",
    "\n"
   ]
  },
  {
   "cell_type": "code",
   "execution_count": null,
   "metadata": {},
   "outputs": [],
   "source": []
  },
  {
   "cell_type": "code",
   "execution_count": null,
   "metadata": {},
   "outputs": [],
   "source": [
    "recognizer = speech_recognition.Recognizer()\n",
    "\n",
    "punctuations = ['.', '?']\n",
    "\n",
    "while True:\n",
    "\n",
    "    try:\n",
    "\n",
    "        with speech_recognition.Microphone() as mic:\n",
    "\n",
    "            recognizer.adjust_for_ambient_noise(mic, duration=0.2)\n",
    "            audio = recognizer.listen(mic)\n",
    "\n",
    "            text = recognizer.recognize_google(audio)\n",
    "            text = text.lower()\n",
    "\n",
    "            print(f\"Recognized {text}\")\n",
    "\n",
    "    # except speech_recognition.UnknownValueError():\n",
    "    except Exception as e:\n",
    "\n",
    "        recognizer = speech_recognition.Recognizer()\n",
    "        continue\n",
    "\n"
   ]
  },
  {
   "cell_type": "code",
   "execution_count": null,
   "metadata": {},
   "outputs": [],
   "source": []
  }
 ],
 "metadata": {
  "kernelspec": {
   "display_name": "Python 3",
   "language": "python",
   "name": "python3"
  },
  "language_info": {
   "codemirror_mode": {
    "name": "ipython",
    "version": 3
   },
   "file_extension": ".py",
   "mimetype": "text/x-python",
   "name": "python",
   "nbconvert_exporter": "python",
   "pygments_lexer": "ipython3",
   "version": "3.11.6"
  }
 },
 "nbformat": 4,
 "nbformat_minor": 2
}
